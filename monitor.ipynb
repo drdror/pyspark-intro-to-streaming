{
 "cells": [
  {
   "cell_type": "code",
   "execution_count": null,
   "id": "74d64312",
   "metadata": {},
   "outputs": [],
   "source": [
    "import findspark\n",
    "from pyspark.sql import SparkSession\n",
    "\n",
    "findspark.init()\n",
    "\n",
    "spark = (\n",
    "    SparkSession.builder.appName(\"TestApp\")\n",
    "    .config(\"spark.driver.host\", \"localhost\")\n",
    "    .getOrCreate()\n",
    ")"
   ]
  },
  {
   "cell_type": "code",
   "execution_count": null,
   "id": "1d627eae",
   "metadata": {},
   "outputs": [],
   "source": [
    "result_df = spark.read.json(\"data/output\")\n",
    "result_df.show(70)"
   ]
  }
 ],
 "metadata": {
  "kernelspec": {
   "display_name": ".venv",
   "language": "python",
   "name": "python3"
  },
  "language_info": {
   "codemirror_mode": {
    "name": "ipython",
    "version": 3
   },
   "file_extension": ".py",
   "mimetype": "text/x-python",
   "name": "python",
   "nbconvert_exporter": "python",
   "pygments_lexer": "ipython3",
   "version": "3.12.2"
  }
 },
 "nbformat": 4,
 "nbformat_minor": 5
}
